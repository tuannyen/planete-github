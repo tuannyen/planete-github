{
 "cells": [
  {
   "cell_type": "markdown",
   "metadata": {},
   "source": [
    "# Etude d'un système planétaire\n",
    " \n",
    "**Lehanneur Iona - Blasco Anaïs - Daumont Jean-Baptiste**\n",
    "*ARE DYNAMIC - 2021*"
   ]
  },
  {
   "cell_type": "markdown",
   "metadata": {},
   "source": [
    "## Préambule\n",
    "\n",
    "Un système planétaire tout comme celui dans lequel nous évoluons, se compose de corps célestes (astéroïdes, comètes…). Tous gravitent autour d’une étoile centrale.\n",
    "Ce projet de recherche documentaire a pour objectif de déterminer de quelle manière des facteurs tels que la taille d’un système complet, la masse et le diamètre de l’étoile centrale et le nombre de planètes influent sur les différentes trajectoires des corps célestes.\n",
    "Pour ce faire, nous utiliserons différentes métriques via le langage de programmation Python dans le but de comparer différents systèmes modélisés par nos soins. Nous en déduirons à partir de quelle masse, l’astre central est trop « léger » pour attirer les corps et inversement, à partir de quelle masse et taille se trouve-t-il trop « gros » pour que les planètes n’entrent pas en collision avec ce dernier.\n",
    "\n",
    "La taille et le nombre de planètes ont aussi un rôle essentiel à jouer, nos hypothèses soutiennent qu’un système trop grand comparé à la taille de l’étoile, empêchera les planètes lointaines d’engendrer une orbite stable, ainsi, les plus éloignées ne feront plus partie du système étudié.\n",
    "En somme, nous conclurons avec des courbes significatives, montrant le comportement des astres quant à la modification des paramètres cités précédemment, ce qui constituera la réponse à notre problématique.\n",
    "\n",
    "\n",
    "## Objectifs\n",
    "\n",
    "Dans ce notebook nous allons essayer de modéliser les trajectoires des planètes avec l'aide de formules mathématiques concrètes, afin que notre modèle mette en lumière les différences d'un système à l'autre. Nous allons essayer de comprendre les différentes façons d'implémenter un modèle significatif, et d'obtenir des résultats commentés qui permettront de comprendre dans quelles mesures un système va-t-il émerger, et sous quelle(s) condition(s) va-t-il pouvoir accueillir un nombre de planètes plus élevé que le notre.\n",
    "\n"
   ]
  },
  {
   "cell_type": "markdown",
   "metadata": {},
   "source": [
    "#  Etude du modèle en deux dimensions\n",
    "\n",
    "**Objectifs : implémenter le modèle planétaire en python, le tester sur un exemple simple puis étudier l'impact que peuvent avoir les paramètres du modèle sur le système.**\n",
    "\n",
    "Nous allons étudier l’impact des paramètres du modèle : \n",
    "- la taille du système,\n",
    "- le nombre de planètes,\n",
    "- le diamètre de l'étoile,\n",
    "- la masse de l'étoile,\n",
    "\n",
    "**Pour quantifier l'impact de ces paramètres, en plus de l'observation visuelle de l'évolution de notre système, nous utiliserons les métriques suivantes :**\n"
   ]
  },
  {
   "cell_type": "code",
   "execution_count": 1,
   "metadata": {},
   "outputs": [],
   "source": [
    "import numpy as np\n",
    "\n",
    "import random\n",
    "\n",
    "from matplotlib import pyplot as plt"
   ]
  },
  {
   "cell_type": "code",
   "execution_count": 2,
   "metadata": {},
   "outputs": [],
   "source": [
    "# Paramètres du modèle Planétaire\n",
    "sysize = 11     # Taille du système\n",
    "plannum= 5     # Nombre de planètes (pour planet number à l'anglaise évidemment)\n",
    "diameter=5    # Diamètre de l'étoile centrale en kms\n",
    "mass=10^30 # Masse de l'étoile centrale\n",
    "N=20      #nombre d'itérations"
   ]
  },
  {
   "cell_type": "markdown",
   "metadata": {},
   "source": [
    "**Notre système est composé d'une matrice carrée de taille sysize.**"
   ]
  },
  {
   "cell_type": "code",
   "execution_count": 3,
   "metadata": {},
   "outputs": [
    {
     "name": "stdout",
     "output_type": "stream",
     "text": [
      "[[0 0 0 0 0 0 0 0 0 0 0]\n",
      " [0 0 0 0 0 0 0 0 0 0 0]\n",
      " [0 0 0 0 0 0 0 0 0 0 0]\n",
      " [0 0 0 0 0 0 0 0 0 0 0]\n",
      " [0 0 0 0 0 0 0 0 0 0 0]\n",
      " [0 0 0 0 0 0 0 0 0 0 0]\n",
      " [0 0 0 0 0 0 0 0 0 0 0]\n",
      " [0 0 0 0 0 0 0 0 0 0 0]\n",
      " [0 0 0 0 0 0 0 0 0 0 0]\n",
      " [0 0 0 0 0 0 0 0 0 0 0]\n",
      " [0 0 0 0 0 0 0 0 0 0 0]]\n"
     ]
    }
   ],
   "source": [
    "system=np.zeros((sysize,sysize),dtype=int)\n",
    "print (system)"
   ]
  },
  {
   "cell_type": "markdown",
   "metadata": {},
   "source": [
    "**la fonction ```print_system``` permet d'afficher le système.**\n"
   ]
  },
  {
   "cell_type": "code",
   "execution_count": 4,
   "metadata": {},
   "outputs": [
    {
     "name": "stdout",
     "output_type": "stream",
     "text": [
      " 0 0 0 0 0 0 0 0 0 0 0 \n",
      " 0 0 0 0 0 0 0 0 0 0 0 \n",
      " 0 0 0 0 0 0 0 0 0 0 0 \n",
      " 0 0 0 0 0 0 0 0 0 0 0 \n",
      " 0 0 0 0 0 0 0 0 0 0 0 \n",
      " 0 0 0 0 0 0 0 0 0 0 0 \n",
      " 0 0 0 0 0 0 0 0 0 0 0 \n",
      " 0 0 0 0 0 0 0 0 0 0 0 \n",
      " 0 0 0 0 0 0 0 0 0 0 0 \n",
      " 0 0 0 0 0 0 0 0 0 0 0 \n",
      " 0 0 0 0 0 0 0 0 0 0 0 \n",
      "\n"
     ]
    }
   ],
   "source": [
    "def print_system(system):\n",
    "    result = \"\"\n",
    "    for i in system:\n",
    "        for j in i:\n",
    "            result += \" \"+str(j)\n",
    "        result += \" \"+'\\n'\n",
    "    print(result)\n",
    "    return\n",
    "print_system(system)"
   ]
  },
  {
   "cell_type": "markdown",
   "metadata": {},
   "source": [
    "**Notre étoile centrale est donc située au entre du système (ici matrice), elle est représentée grâce à ses coordonnées.**"
   ]
  },
  {
   "cell_type": "code",
   "execution_count": 5,
   "metadata": {},
   "outputs": [],
   "source": [
    "coord_star = sysize//2"
   ]
  },
  {
   "cell_type": "markdown",
   "metadata": {},
   "source": [
    "**La fonction ```create_etoile```place l'étoile au centre du système selon ses coordonnées. Le coté du carré sensé représenter l'étoile fera le diamètre de l'étoile (exemple diamètre=3: carré=3x3 dans le système).**"
   ]
  },
  {
   "cell_type": "code",
   "execution_count": 6,
   "metadata": {},
   "outputs": [],
   "source": [
    "def create_etoile(system):\n",
    "    \n",
    "    system[coord_star-diameter//2:coord_star+diameter//2+1, coord_star-diameter//2:coord_star+diameter//2+1] = 1"
   ]
  },
  {
   "cell_type": "code",
   "execution_count": 7,
   "metadata": {},
   "outputs": [],
   "source": [
    "create_etoile(system)"
   ]
  },
  {
   "cell_type": "code",
   "execution_count": 8,
   "metadata": {},
   "outputs": [
    {
     "name": "stdout",
     "output_type": "stream",
     "text": [
      " 0 0 0 0 0 0 0 0 0 0 0 \n",
      " 0 0 0 0 0 0 0 0 0 0 0 \n",
      " 0 0 0 0 0 0 0 0 0 0 0 \n",
      " 0 0 0 1 1 1 1 1 0 0 0 \n",
      " 0 0 0 1 1 1 1 1 0 0 0 \n",
      " 0 0 0 1 1 1 1 1 0 0 0 \n",
      " 0 0 0 1 1 1 1 1 0 0 0 \n",
      " 0 0 0 1 1 1 1 1 0 0 0 \n",
      " 0 0 0 0 0 0 0 0 0 0 0 \n",
      " 0 0 0 0 0 0 0 0 0 0 0 \n",
      " 0 0 0 0 0 0 0 0 0 0 0 \n",
      "\n"
     ]
    }
   ],
   "source": [
    "print_system(system)"
   ]
  },
  {
   "cell_type": "markdown",
   "metadata": {},
   "source": [
    "**Pour créer une planète, nous nous servons d'une classe planète.**"
   ]
  },
  {
   "cell_type": "code",
   "execution_count": 9,
   "metadata": {},
   "outputs": [],
   "source": [
    "class planetetype():\n",
    "\n",
    "    def __init__(self):\n",
    "        # self fait référence à l'objet lui-même\n",
    "        self.sizeplan = random.randint(1,7)*0.01\n",
    "        self.coordonnees = [random.randint(0,sysize-1),random.randint(0,sysize-1)]\n",
    "        self.massplan = random.randint(10**20,10**28)\n",
    "    "
   ]
  },
  {
   "cell_type": "markdown",
   "metadata": {},
   "source": [
    "**La fonction ``rand_plan`` permet de créer une planète de notre système en fonction de *plannum*, et de lui prodiguer une masse random dans un intervalle réliste (la planète ne peut être plus lourde que l'étoile centrale), ainsi qu'un diamètre plausible (même raisonnement).**"
   ]
  },
  {
   "cell_type": "code",
   "execution_count": 10,
   "metadata": {},
   "outputs": [],
   "source": [
    "def randplan(plannum):\n",
    "    L=[]\n",
    "    while (plannum!=0):\n",
    "        planete=planetetype()\n",
    "        if system[planete.coordonnees[0],planete.coordonnees[1]]==0:\n",
    "            plannum-=1\n",
    "            L.append(planete)\n",
    "    return (L)"
   ]
  },
  {
   "cell_type": "code",
   "execution_count": 11,
   "metadata": {},
   "outputs": [
    {
     "data": {
      "text/plain": [
       "[<__main__.planetetype at 0x231761f44f0>,\n",
       " <__main__.planetetype at 0x231761f4ca0>,\n",
       " <__main__.planetetype at 0x231761f4520>,\n",
       " <__main__.planetetype at 0x231761f4e20>,\n",
       " <__main__.planetetype at 0x231761cdcd0>]"
      ]
     },
     "execution_count": 11,
     "metadata": {},
     "output_type": "execute_result"
    }
   ],
   "source": [
    "randplan(plannum)"
   ]
  },
  {
   "cell_type": "code",
   "execution_count": 12,
   "metadata": {},
   "outputs": [],
   "source": [
    "def create_p(plannum):\n",
    "    L=randplan(plannum)\n",
    "    for i in range (plannum):\n",
    "        p=L[i].coordonnees\n",
    "        system[p[0],p[1]]=2\n",
    "    return system"
   ]
  },
  {
   "cell_type": "code",
   "execution_count": 13,
   "metadata": {},
   "outputs": [
    {
     "data": {
      "text/plain": [
       "array([[0, 0, 0, 0, 0, 0, 0, 2, 0, 0, 0],\n",
       "       [0, 0, 0, 0, 0, 0, 0, 0, 0, 0, 0],\n",
       "       [0, 0, 0, 0, 0, 0, 0, 0, 0, 0, 0],\n",
       "       [0, 0, 0, 1, 1, 1, 1, 1, 0, 0, 0],\n",
       "       [0, 0, 0, 1, 1, 1, 1, 1, 0, 0, 0],\n",
       "       [0, 0, 0, 1, 1, 1, 1, 1, 2, 0, 0],\n",
       "       [2, 0, 0, 1, 1, 1, 1, 1, 0, 0, 0],\n",
       "       [0, 0, 0, 1, 1, 1, 1, 1, 0, 2, 0],\n",
       "       [0, 0, 0, 0, 2, 0, 0, 0, 0, 0, 0],\n",
       "       [0, 0, 0, 0, 0, 0, 0, 0, 0, 0, 0],\n",
       "       [0, 0, 0, 0, 0, 0, 0, 0, 0, 0, 0]])"
      ]
     },
     "execution_count": 13,
     "metadata": {},
     "output_type": "execute_result"
    }
   ],
   "source": [
    "create_p(plannum)"
   ]
  },
  {
   "cell_type": "code",
   "execution_count": 14,
   "metadata": {},
   "outputs": [
    {
     "name": "stdout",
     "output_type": "stream",
     "text": [
      " 0 0 0 0 0 0 0 2 0 0 0 \n",
      " 0 0 0 0 0 0 0 0 0 0 0 \n",
      " 0 0 0 0 0 0 0 0 0 0 0 \n",
      " 0 0 0 1 1 1 1 1 0 0 0 \n",
      " 0 0 0 1 1 1 1 1 0 0 0 \n",
      " 0 0 0 1 1 1 1 1 2 0 0 \n",
      " 2 0 0 1 1 1 1 1 0 0 0 \n",
      " 0 0 0 1 1 1 1 1 0 2 0 \n",
      " 0 0 0 0 2 0 0 0 0 0 0 \n",
      " 0 0 0 0 0 0 0 0 0 0 0 \n",
      " 0 0 0 0 0 0 0 0 0 0 0 \n",
      "\n"
     ]
    }
   ],
   "source": [
    "print_system(system)"
   ]
  },
  {
   "cell_type": "markdown",
   "metadata": {},
   "source": [
    "**Dans le but de modéliser les trajectoires de nos planètes, des fonctions de déplacement sont nécessaires. La fonction ``moveup``permet de déplacer la planète vers le haut du système en utilisant ses coordonnées.**"
   ]
  },
  {
   "cell_type": "code",
   "execution_count": 15,
   "metadata": {},
   "outputs": [],
   "source": [
    "def moveup(p):\n",
    "    system[p.coordonnees[0],p.coordonnees[1]]=0\n",
    "    system[p.coordonnees[0],p.coordonnees[1]+1]=1\n",
    "    p.coordonnees[0]+=1\n",
    "    \n",
    "    "
   ]
  },
  {
   "cell_type": "markdown",
   "metadata": {},
   "source": [
    "**De même pour les autres directions avec les fonctions ``moveleft``,``moveright``,``movedown`` et ``movediag``pour les déplacements en diagonale**"
   ]
  },
  {
   "cell_type": "code",
   "execution_count": 16,
   "metadata": {},
   "outputs": [],
   "source": [
    "def moveleft(p):\n",
    "    system[p.coordonnees[0],p.coordonnees[1]]=0\n",
    "    system[p.coordonnees[0]-1,p.coordonnees[1]]=1\n",
    "    p.coordonnees[0]-=1\n"
   ]
  },
  {
   "cell_type": "code",
   "execution_count": 17,
   "metadata": {},
   "outputs": [],
   "source": [
    "def moveright(p):\n",
    "    system[p.coordonnees[0],p.coordonnees[1]]=0\n",
    "    system[p.coordonnees[0]+1,p.coordonnees[1]]=1\n",
    "    p.coordonnees[0]+=1"
   ]
  },
  {
   "cell_type": "code",
   "execution_count": 18,
   "metadata": {},
   "outputs": [],
   "source": [
    "def movedown(p):\n",
    "    system[p.coordonnees[0],p.coordonnees[1]]=0\n",
    "    system[p.coordonnees[0],p.coordonnees[1]-1]=1\n",
    "    p.coordonnees[0]-=1"
   ]
  },
  {
   "cell_type": "code",
   "execution_count": 20,
   "metadata": {},
   "outputs": [],
   "source": [
    "def movediag_up_left(p):\n",
    "    moveleft(p)\n",
    "    moveup(p)"
   ]
  },
  {
   "cell_type": "code",
   "execution_count": 22,
   "metadata": {},
   "outputs": [],
   "source": [
    "def movediag_up_right(p):\n",
    "    moveright(p)\n",
    "    moveup(p)"
   ]
  },
  {
   "cell_type": "code",
   "execution_count": 23,
   "metadata": {},
   "outputs": [],
   "source": [
    "def movediag_down_left(p):\n",
    "    moveleft(p)\n",
    "    movedown(p)"
   ]
  },
  {
   "cell_type": "code",
   "execution_count": 24,
   "metadata": {},
   "outputs": [],
   "source": [
    "def movediag_down_right(p):\n",
    "    moveright(p)\n",
    "    movedown(p)"
   ]
  },
  {
   "cell_type": "markdown",
   "metadata": {},
   "source": [
    "**Avec ces fonctions de mouvement, nous sommes maintenant capables de déterminer la trajectoire qu'aura une planète de notre système, on attribut une vitesse à chaque planète en fonction de sa masse et sa distance à l'étoile.Puis nous regarderons où se trouve la planète à T+1 (sachant que le système de base est représenté à T=0)**"
   ]
  },
  {
   "cell_type": "code",
   "execution_count": 25,
   "metadata": {},
   "outputs": [],
   "source": [
    "def vitesse(p):\n",
    "    G = 6.6742*10**-11\n",
    "    d = sqrt((p.coordonnees[0]-coord_star)**2+(p.coordonnees[1]-coord_star)**2)\n",
    "    vitesse = sqrt((G*p.massplan)/d)"
   ]
  },
  {
   "cell_type": "markdown",
   "metadata": {},
   "source": [
    "**On obtient ici la vitesse à l'aide de la formule pour les vitesses orbitales où G est la constante de gravitation universelle , et d la distance entre les noyaux de la planète et l'étoile**"
   ]
  },
  {
   "cell_type": "markdown",
   "metadata": {},
   "source": [
    "**A T=0, la planète est donc à sa position random initiale, et à T+1, la planète bougera de 1 en diagonale, la position dépendra de si la planète rentre, sors, ou perdure dans l'orbite de son étoile**"
   ]
  },
  {
   "cell_type": "markdown",
   "metadata": {},
   "source": [
    "**La fontion ``trajectoire``nous aide à tracer la trajetoire de la planète**"
   ]
  },
  {
   "cell_type": "code",
   "execution_count": 26,
   "metadata": {},
   "outputs": [
    {
     "ename": "SyntaxError",
     "evalue": "unexpected EOF while parsing (<ipython-input-26-4922673e1992>, line 4)",
     "output_type": "error",
     "traceback": [
      "\u001b[1;36m  File \u001b[1;32m\"<ipython-input-26-4922673e1992>\"\u001b[1;36m, line \u001b[1;32m4\u001b[0m\n\u001b[1;33m    \u001b[0m\n\u001b[1;37m    ^\u001b[0m\n\u001b[1;31mSyntaxError\u001b[0m\u001b[1;31m:\u001b[0m unexpected EOF while parsing\n"
     ]
    }
   ],
   "source": [
    "def trajectoire(p):\n",
    "    for i in range (N):\n",
    "        \n",
    "        \n",
    "        i++\n",
    "    \n",
    "    \n",
    "    "
   ]
  },
  {
   "cell_type": "markdown",
   "metadata": {},
   "source": [
    "**A T+N : on obtient un modèle stable, les tentatives montreront à partir de quel N, notre modèle ne bouge plus\n",
    "    selon les métriques fixées au départ. N est fixé avant chaque essai, c'est le \"nombre de tours\" que notre fonction ``final_system`` fera.**"
   ]
  },
  {
   "cell_type": "markdown",
   "metadata": {},
   "source": [
    "**La ``fonction final_system`` nous permet d'avoir une vision globale du système après N itérations**"
   ]
  },
  {
   "cell_type": "code",
   "execution_count": null,
   "metadata": {},
   "outputs": [],
   "source": [
    "def final_system(N,p)"
   ]
  },
  {
   "cell_type": "code",
   "execution_count": 1,
   "metadata": {},
   "outputs": [
    {
     "ename": "SyntaxError",
     "evalue": "invalid syntax (<ipython-input-1-f188d5ac1197>, line 1)",
     "output_type": "error",
     "traceback": [
      "\u001b[1;36m  File \u001b[1;32m\"<ipython-input-1-f188d5ac1197>\"\u001b[1;36m, line \u001b[1;32m1\u001b[0m\n\u001b[1;33m    git init\u001b[0m\n\u001b[1;37m        ^\u001b[0m\n\u001b[1;31mSyntaxError\u001b[0m\u001b[1;31m:\u001b[0m invalid syntax\n"
     ]
    }
   ],
   "source": [
    "git init"
   ]
  },
  {
   "cell_type": "code",
   "execution_count": null,
   "metadata": {},
   "outputs": [],
   "source": []
  },
  {
   "cell_type": "code",
   "execution_count": null,
   "metadata": {},
   "outputs": [],
   "source": []
  },
  {
   "cell_type": "code",
   "execution_count": null,
   "metadata": {},
   "outputs": [],
   "source": []
  },
  {
   "cell_type": "code",
   "execution_count": null,
   "metadata": {},
   "outputs": [],
   "source": []
  }
 ],
 "metadata": {
  "anaconda-cloud": {},
  "kernelspec": {
   "display_name": "Python 3",
   "language": "python",
   "name": "python3"
  },
  "language_info": {
   "codemirror_mode": {
    "name": "ipython",
    "version": 3
   },
   "file_extension": ".py",
   "mimetype": "text/x-python",
   "name": "python",
   "nbconvert_exporter": "python",
   "pygments_lexer": "ipython3",
   "version": "3.8.6"
  }
 },
 "nbformat": 4,
 "nbformat_minor": 1
}
